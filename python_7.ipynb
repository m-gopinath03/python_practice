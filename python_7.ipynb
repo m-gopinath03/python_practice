{
 "cells": [
  {
   "cell_type": "markdown",
   "metadata": {},
   "source": [
    "# Classes"
   ]
  },
  {
   "cell_type": "markdown",
   "metadata": {},
   "source": [
    "1) Write a python class to convert an integer into a roman numeral and viceversa"
   ]
  },
  {
   "cell_type": "code",
   "execution_count": 9,
   "metadata": {},
   "outputs": [
    {
     "name": "stdout",
     "output_type": "stream",
     "text": [
      "980\n",
      "CMLXXX\n"
     ]
    }
   ],
   "source": [
    "class RomanNumericalConversion:\n",
    "    def __init__(self) -> None:\n",
    "        self.romanValues = {\n",
    "                            1:'I', 4:'IV', 5:'V', 9:'IX', 10:'X', 40:'XL', 50:'L', 90:'XC', 100:'C', 400:'CD', 500:'D', 900:'CM', 1000:'M'\n",
    "                            }\n",
    "        self.integerValues = {v:k for k,v in self.romanValues.items()}\n",
    "        self.sortedValues = sorted(self.romanValues.keys(), reverse=True)\n",
    "        \n",
    "    def romanToInteger(self, roman:str) -> int:\n",
    "        i = 0\n",
    "        num = 0\n",
    "        while i < len(roman):\n",
    "            if i + 1 < len(roman) and roman[i:i+2] in self.integerValues:\n",
    "                num += self.integerValues[roman[i:i+2]]\n",
    "                i += 2\n",
    "            else:\n",
    "                num += self.integerValues[roman[i]]\n",
    "                i +=1\n",
    "        return num\n",
    "    \n",
    "    def intToRoman(self,num:int) -> str:\n",
    "        roman = ''\n",
    "        for key in self.sortedValues:\n",
    "            while num >= key:\n",
    "                roman += self.romanValues[key]\n",
    "                num -= key\n",
    "        return roman\n",
    "    \n",
    "converter = RomanNumericalConversion()\n",
    "print(converter.romanToInteger('CMLXXX'))\n",
    "print(converter.intToRoman(980))"
   ]
  },
  {
   "cell_type": "markdown",
   "metadata": {},
   "source": [
    "2) Write a Python class to find validity of a string of parentheses, '(', ')', '{', '}', '[' and ']. These brackets must be close in the correct order, for example \"()\" and \"()[]{}\" are valid but \"[)\", \"({[)]\" and \"{{{\" are invalid. "
   ]
  },
  {
   "cell_type": "code",
   "execution_count": 13,
   "metadata": {},
   "outputs": [
    {
     "name": "stdout",
     "output_type": "stream",
     "text": [
      "False\n",
      "True\n"
     ]
    }
   ],
   "source": [
    "class CheckValidity:\n",
    "    def __init__(self):\n",
    "        self.pair = {'(':')', '[':']', '{':'}'}\n",
    "        \n",
    "    def isValid(self, s:str) -> bool:\n",
    "        stack = []\n",
    "        for char in s:\n",
    "            if char in self.pair: # for opening parenthesis\n",
    "                stack.append(char)\n",
    "            elif char in self.pair.values():\n",
    "                if not stack or char != self.pair[stack.pop()]:\n",
    "                    return False\n",
    "        return not stack\n",
    "    \n",
    "checker = CheckValidity()\n",
    "print(checker.isValid('({]})'))\n",
    "print(checker.isValid('[({})]'))"
   ]
  },
  {
   "cell_type": "markdown",
   "metadata": {},
   "source": [
    "3) Write a Python class to get all possible unique subsets from a set of distinct integers Input : [4, 5, 6] Output : [[], [6], [5], [5, 6], [4], [4, 6], [4, 5], [4, 5, 6]]"
   ]
  },
  {
   "cell_type": "code",
   "execution_count": 15,
   "metadata": {},
   "outputs": [
    {
     "name": "stdout",
     "output_type": "stream",
     "text": [
      "[[], [4], [5], [4, 5], [6], [4, 6], [5, 6], [4, 5, 6]]\n"
     ]
    }
   ],
   "source": [
    "class DistinctInt:\n",
    "    def uniqueSubsets(self,list1:list) -> list:\n",
    "        stack = [[]]\n",
    "        for num in list1:\n",
    "            stack += [curr + [num] for curr in stack]\n",
    "        return stack\n",
    "\n",
    "\n",
    "UniqueList = DistinctInt()\n",
    "print(UniqueList.uniqueSubsets([4,5,6]))\n",
    "                \n",
    "                "
   ]
  },
  {
   "cell_type": "markdown",
   "metadata": {},
   "source": [
    "4) Write a Python class to find a pair of elements (indices of the two numbers) from a given array whose sum equals a specific target number. Note: There will be one solution for each input and do not use the same element twice. Input: numbers= [90, 20,10,40,50,60,70], target=50 Output: 3, 4 "
   ]
  },
  {
   "cell_type": "code",
   "execution_count": 23,
   "metadata": {},
   "outputs": [
    {
     "name": "stdout",
     "output_type": "stream",
     "text": [
      "[(3, 4)]\n"
     ]
    }
   ],
   "source": [
    "class IndicesSum:\n",
    "    def __init__(self) -> None:\n",
    "        self.list1 = list(map(int,input(\"Enter the integer list with space separated\").split())) \n",
    "        self.target = int(input(\"Target\"))\n",
    "    \n",
    "    def targetIndices(self) -> list:\n",
    "        n = len(self.list1)\n",
    "        result = []\n",
    "        for i in range(1,n):\n",
    "            for j in range(i+1,n):\n",
    "                if self.list1[i] + self.list1[j] == self.target:\n",
    "                    result.append((i+1,j+1))\n",
    "        return result\n",
    "\n",
    "subset = IndicesSum()\n",
    "print(subset.targetIndices())"
   ]
  },
  {
   "cell_type": "markdown",
   "metadata": {},
   "source": [
    "5) Write a Python class to find the three elements that sum to zero from a set of n real numbers. Input array : [-25, -10, -7, -3, 2, 4, 8, 10] Output : [[-10, 2, 8], [-7, -3, 10]] "
   ]
  },
  {
   "cell_type": "code",
   "execution_count": 53,
   "metadata": {},
   "outputs": [
    {
     "name": "stdout",
     "output_type": "stream",
     "text": [
      "[[-10, 2, 8], [-7, -3, 10]]\n"
     ]
    }
   ],
   "source": [
    "class ThreeSumZero:\n",
    "    def getElements(self) -> list:\n",
    "        self.list1 = list(map(int,input().split()))\n",
    "        result = []\n",
    "        dict1 = {}\n",
    "        n = len(self.list1)\n",
    "        for i in range(n):\n",
    "            for j in range(i+1,n):\n",
    "                dict1[(self.list1[i],self.list1[j])] = self.list1[i] + self.list1[j]\n",
    "\n",
    "        for k in self.list1:\n",
    "            for key in dict1.keys():\n",
    "                if k not in key:\n",
    "                    triplet = sorted([k, key[0], key[1]])\n",
    "                    if (k + dict1[key] == 0) and triplet not in result:\n",
    "                        result.append(triplet)\n",
    "        return result\n",
    "\n",
    "\n",
    "zeros = ThreeSumZero()\n",
    "print(zeros.getElements())"
   ]
  },
  {
   "cell_type": "markdown",
   "metadata": {},
   "source": [
    "Three Sum Problem using two-pointer approach"
   ]
  },
  {
   "cell_type": "code",
   "execution_count": 57,
   "metadata": {},
   "outputs": [
    {
     "name": "stdout",
     "output_type": "stream",
     "text": [
      "[[-10, 2, 8], [-7, -3, 10]]\n"
     ]
    }
   ],
   "source": [
    "class ThreeSum:\n",
    "    def __init__(self,target) -> None:\n",
    "        self.target = target\n",
    "        \n",
    "    def zeroSum(self)->list:\n",
    "        list1 = sorted(list(map(int,input().split())))\n",
    "        n = len(list1)\n",
    "        result = []\n",
    "        for i in range(n-2):\n",
    "            if i > 0 and list1[i] == list1[i-1]: # check for duplicates\n",
    "                continue\n",
    "            \n",
    "            left, right = i+1, n-1\n",
    "            \n",
    "            while left < right:\n",
    "                total = list1[i] + list1[left] + list1[right]\n",
    "                \n",
    "                if  total == self.target:\n",
    "                    result.append([list1[i], list1[left], list1[right]])\n",
    "                \n",
    "                    while left < right and list1[left] == list1[left + 1]: # Checking duplicates\n",
    "                        left += 1\n",
    "                    while left < right and list1[right] == list1[right -1]:\n",
    "                        right -= 1\n",
    "                    \n",
    "                    left += 1\n",
    "                    right -= 1\n",
    "                \n",
    "                elif total < 0:\n",
    "                    left += 1\n",
    "                else:\n",
    "                    right -= 1\n",
    "        return result\n",
    "\n",
    "\n",
    "sumOfZero = ThreeSum(0)\n",
    "print(sumOfZero.zeroSum())\n"
   ]
  },
  {
   "cell_type": "markdown",
   "metadata": {},
   "source": [
    "6) Write a Python class to implement pow(x, n) "
   ]
  },
  {
   "cell_type": "code",
   "execution_count": 68,
   "metadata": {},
   "outputs": [
    {
     "name": "stdout",
     "output_type": "stream",
     "text": [
      "3\n",
      "8.0\n",
      "-0.125\n"
     ]
    }
   ],
   "source": [
    "from typing import overload, Any\n",
    "class CustomPow:\n",
    "    @overload\n",
    "    def pow(self, base: int, exp: int, mod=int) -> int: ...\n",
    "    @overload\n",
    "    def poW(self, base: int, exp: int) -> int: ...\n",
    "    @overload\n",
    "    def pow(self, base: int, exp: float) -> float: ...\n",
    "    @overload\n",
    "    def pow(self, base: float, exp: int) -> float: ...\n",
    "    @overload\n",
    "    def pow(self, base: float, exp: float) -> float: ...\n",
    "    \n",
    "    def pow(self, base:Any, exp:Any, mod:Any = None) -> Any:\n",
    "        if isinstance(base,int) and isinstance(exp,int):\n",
    "            if mod is not None:\n",
    "                return (base**exp) % mod\n",
    "            return (base ** exp)\n",
    "        elif isinstance(base,float) and isinstance(exp,int):\n",
    "            return (base ** exp)\n",
    "        elif isinstance(base,int) and isinstance(exp,float):\n",
    "            return (base ** exp)\n",
    "        elif isinstance(base,float) and isinstance(exp,float):\n",
    "            return (base ** exp)\n",
    "        else:\n",
    "            raise TypeError(\"Base and exponents must be type int or float\")\n",
    "\n",
    "\n",
    "power = CustomPow()\n",
    "print(power.pow(2,3,5))\n",
    "print(power.pow(2.0,3.0))\n",
    "print(power.pow(-2,-3))"
   ]
  },
  {
   "cell_type": "markdown",
   "metadata": {},
   "source": [
    "7) Write a Python class to reverse a string word by word. \n",
    "Input string : 'hello .py' Expected Output : '.py hello' "
   ]
  },
  {
   "cell_type": "code",
   "execution_count": 81,
   "metadata": {},
   "outputs": [
    {
     "name": "stdout",
     "output_type": "stream",
     "text": [
      "The string you typed : pace wisdom.com\n",
      "wisdom.com pace\n",
      "com.pace wisdom\n"
     ]
    }
   ],
   "source": [
    "class String:\n",
    "    def __init__(self) -> None:\n",
    "        self.str = input(\"Enter the string to reverse\")\n",
    "        print(f\"The string you typed : {self.str}\")\n",
    "\n",
    "    def getWords(self, delimiter):\n",
    "        return self.str.split(delimiter)\n",
    "\n",
    "    def reverse(self,delimiter: str = ' '):\n",
    "        words = self.getWords(delimiter)\n",
    "        return delimiter.join(words[::-1])\n",
    "\n",
    "\n",
    "cls = String()\n",
    "print(cls.reverse())\n",
    "print(cls.reverse('.'))"
   ]
  },
  {
   "cell_type": "markdown",
   "metadata": {},
   "source": [
    "8) Write a python class which has 2 methods get_string and print_string. get_string takes a string from the user and print_string prints the string in reverse order "
   ]
  },
  {
   "cell_type": "code",
   "execution_count": 89,
   "metadata": {},
   "outputs": [
    {
     "name": "stdout",
     "output_type": "stream",
     "text": [
      "The string you entered:  pacewisdom\n",
      "Reversed String:  modsiwecap\n"
     ]
    }
   ],
   "source": [
    "class StringOps:\n",
    "    def __init__(self) -> None:\n",
    "        self.string = \"\"\n",
    "\n",
    "    def get_string(self):\n",
    "        self.string = input(\"Enter the string\")\n",
    "        print(\"The string you entered: \",self.string)\n",
    "\n",
    "    def print_string(self):\n",
    "        self.get_string()\n",
    "        print(\"Reversed String: \", self.string[::-1])\n",
    "\n",
    "\n",
    "\n",
    "obj = StringOps()\n",
    "obj.print_string()"
   ]
  },
  {
   "cell_type": "markdown",
   "metadata": {},
   "source": [
    "9) Write a Python class named Circle constructed by a radius and two methods which will compute the area and the perimeter of a circle. "
   ]
  },
  {
   "cell_type": "code",
   "execution_count": 92,
   "metadata": {},
   "outputs": [
    {
     "name": "stdout",
     "output_type": "stream",
     "text": [
      "31.428571428571427\n"
     ]
    },
    {
     "data": {
      "text/plain": [
       "78.57142857142857"
      ]
     },
     "execution_count": 92,
     "metadata": {},
     "output_type": "execute_result"
    }
   ],
   "source": [
    "class Circle:\n",
    "    def __init__(self, radius):\n",
    "        self.radius = radius\n",
    "    \n",
    "    def area(self):\n",
    "        radSqr = self.radius*self.radius\n",
    "        return (22/7)*radSqr\n",
    "    \n",
    "    def perimeter(self):\n",
    "        return (44/7)*self.radius\n",
    "\n",
    "\n",
    "\n",
    "circle = Circle(5)\n",
    "print(circle.perimeter())\n",
    "circle.area()"
   ]
  },
  {
   "cell_type": "markdown",
   "metadata": {},
   "source": [
    "10) Write a Python program to get the class name of an instance in Python."
   ]
  },
  {
   "cell_type": "code",
   "execution_count": 94,
   "metadata": {},
   "outputs": [
    {
     "data": {
      "text/plain": [
       "'MyClass'"
      ]
     },
     "execution_count": 94,
     "metadata": {},
     "output_type": "execute_result"
    }
   ],
   "source": [
    "class MyClass:\n",
    "    pass\n",
    "\n",
    "\n",
    "instance = MyClass()\n",
    "className = instance.__class__.__name__\n",
    "className"
   ]
  },
  {
   "cell_type": "markdown",
   "metadata": {},
   "source": [
    "# Lambda"
   ]
  },
  {
   "cell_type": "markdown",
   "metadata": {},
   "source": [
    "`lambda` arguments: expression"
   ]
  },
  {
   "cell_type": "markdown",
   "metadata": {},
   "source": [
    "1) Write a Python program to create a lambda function that adds 15 to a given number passed in as an argument, also create a lambda function that multiplies argument x with argument y and print the result.\n",
    " Sample Output: 25 48 "
   ]
  },
  {
   "cell_type": "code",
   "execution_count": 99,
   "metadata": {},
   "outputs": [
    {
     "name": "stdout",
     "output_type": "stream",
     "text": [
      "25 48\n"
     ]
    }
   ],
   "source": [
    "addNum = lambda x: x + 15\n",
    "product = lambda x,y: x*y\n",
    "\n",
    "print(addNum(10),round(product(10,4.8)))"
   ]
  },
  {
   "cell_type": "markdown",
   "metadata": {},
   "source": [
    "2) Write a Python program to sort a list of tuples using Lambda. \n",
    "\n",
    "    Original list of tuples: [('English', 88), ('Science', 90), ('Maths', 97), ('Social sciences', 82)]\n",
    "\n",
    "    Sorting the List of Tuples: [('Social sciences', 82), ('English', 88), ('Science', 90), ('Maths', 97)]"
   ]
  },
  {
   "cell_type": "code",
   "execution_count": 110,
   "metadata": {},
   "outputs": [
    {
     "data": {
      "text/plain": [
       "[('Social sciences', 82), ('English', 88), ('Science', 90), ('Maths', 97)]"
      ]
     },
     "execution_count": 110,
     "metadata": {},
     "output_type": "execute_result"
    }
   ],
   "source": [
    "list1 = [('English', 88), ('Science', 90), ('Maths', 97), ('Social sciences', 82)]\n",
    "sorted_list = sorted(list1, key = lambda list1 : list1[1])\n",
    "sorted_list"
   ]
  },
  {
   "cell_type": "markdown",
   "metadata": {},
   "source": [
    " 3) Write a Python program to sort a list of dictionaries using Lambda. \n",
    "\n",
    "    Original list of dictionaries : [{'make': 'Nokia', 'model': 216, 'color': 'Black'}, {'make': 'Mi Max', 'model': '2', 'color': 'Gold'}, {'make': 'Samsung', 'model': 7, 'color': 'Blue'}] \n",
    "\n",
    "    Sorting the List of dictionaries : [{'make': 'Nokia', 'model': 216, 'color': 'Black'}, {'make': 'Samsung', 'model': 7, 'color': 'Blue'}, {'make': 'Mi Max', 'model': '2', 'color': 'Gold'}] "
   ]
  },
  {
   "cell_type": "code",
   "execution_count": 111,
   "metadata": {},
   "outputs": [
    {
     "data": {
      "text/plain": [
       "[{'make': 'Nokia', 'model': 216, 'color': 'Black'},\n",
       " {'make': 'Samsung', 'model': 7, 'color': 'Blue'},\n",
       " {'make': 'Mi Max', 'model': '2', 'color': 'Gold'}]"
      ]
     },
     "execution_count": 111,
     "metadata": {},
     "output_type": "execute_result"
    }
   ],
   "source": [
    "list2 = [{'make': 'Nokia', 'model': 216, 'color': 'Black'}, {'make': 'Mi Max', 'model': '2', 'color': 'Gold'}, {'make': 'Samsung', 'model': 7, 'color': 'Blue'}]\n",
    "sorted_list2 = sorted(list2, key = lambda list2: list2['color'])\n",
    "sorted_list2"
   ]
  },
  {
   "cell_type": "markdown",
   "metadata": {},
   "source": [
    "4) Write a Python program to find if a given string starts with a given character using Lambda."
   ]
  },
  {
   "cell_type": "code",
   "execution_count": 119,
   "metadata": {},
   "outputs": [
    {
     "data": {
      "text/plain": [
       "False"
      ]
     },
     "execution_count": 119,
     "metadata": {},
     "output_type": "execute_result"
    }
   ],
   "source": [
    "string = \"pace wisdom\"\n",
    "check = lambda s:s[0] == 'w'\n",
    "check(string)"
   ]
  },
  {
   "cell_type": "markdown",
   "metadata": {},
   "source": [
    "5) Write a Python program to check whether a given string is number or not using Lambda. "
   ]
  },
  {
   "cell_type": "code",
   "execution_count": 124,
   "metadata": {},
   "outputs": [
    {
     "data": {
      "text/plain": [
       "True"
      ]
     },
     "execution_count": 124,
     "metadata": {},
     "output_type": "execute_result"
    }
   ],
   "source": [
    "string = '23.3'\n",
    "check = lambda s: s.isdigit() or s.replace('.','',1).isdigit() and s.count('.') < 2\n",
    "check(string)"
   ]
  },
  {
   "cell_type": "markdown",
   "metadata": {},
   "source": [
    "6)  Write a Python program to find numbers divisible by nineteen or thirteen from a list of numbers using Lambda \n",
    "\n",
    "    Orginal list: [19, 65, 57, 39, 152, 639, 121, 44, 90, 190] \n",
    "\n",
    "    Numbers of the above list divisible by nineteen or thirteen: [19, 65, 57, 39, 152, 190] "
   ]
  },
  {
   "cell_type": "code",
   "execution_count": 135,
   "metadata": {},
   "outputs": [
    {
     "data": {
      "text/plain": [
       "[19, 65, 57, 39, 152, 190]"
      ]
     },
     "execution_count": 135,
     "metadata": {},
     "output_type": "execute_result"
    }
   ],
   "source": [
    "num = [19, 65, 57, 39, 152, 639, 121, 44, 90, 190]\n",
    "list1 = list(filter(lambda n: (n % 19 == 0) or (n % 13 == 0), num ))\n",
    "list1"
   ]
  },
  {
   "cell_type": "markdown",
   "metadata": {},
   "source": [
    "7) Write a Python program to sort a given matrix in ascending order according to the sum of its rows using lambda. \n",
    "    \n",
    "    Original Matrix: [[1, 2, 3], [2, 4, 5], [1, 1, 1]] \n",
    "    \n",
    "    Sort the said matrix in ascending order according to the sum of its rows [[1, 1, 1], [1, 2, 3], [2, 4, 5]]\n",
    "    \n",
    "    Original Matrix: [[1, 2, 3], [-2, 4, -5], [1, -1, 1]] \n",
    "    \n",
    "    Sort the said matrix in ascending order according to the sum of its rows [[-2, 4, -5], [1, -1, 1], [1, 2, 3]] "
   ]
  },
  {
   "cell_type": "code",
   "execution_count": 142,
   "metadata": {},
   "outputs": [
    {
     "name": "stdout",
     "output_type": "stream",
     "text": [
      "[[1, 1, 1], [1, 2, 3], [2, 4, 5]]\n"
     ]
    },
    {
     "data": {
      "text/plain": [
       "[[-2, 4, -5], [1, -1, 1], [1, 2, 3]]"
      ]
     },
     "execution_count": 142,
     "metadata": {},
     "output_type": "execute_result"
    }
   ],
   "source": [
    "list3 = [[1, 2, 3], [2, 4, 5], [1, 1, 1]] \n",
    "list4 = [[1, 2, 3], [-2, 4, -5], [1, -1, 1]] \n",
    "sorted_matrix = sorted(list3, key= lambda list3: sum(list3))\n",
    "sorted_matrix2 = sorted(list4, key= lambda list4: sum(list4))\n",
    "print(sorted_matrix)\n",
    "sorted_matrix2 "
   ]
  },
  {
   "cell_type": "markdown",
   "metadata": {},
   "source": [
    "8) Write a Python program to check whether a given string contains a capital letter, a lower case letter, a number and a minimum length using lambda. Minimum length : 10 input string: PaceWisd0m o/p: valid string "
   ]
  },
  {
   "cell_type": "code",
   "execution_count": 160,
   "metadata": {},
   "outputs": [
    {
     "data": {
      "text/plain": [
       "'Valid String'"
      ]
     },
     "execution_count": 160,
     "metadata": {},
     "output_type": "execute_result"
    }
   ],
   "source": [
    "def validString(s:str) -> str:\n",
    "    check = lambda s: (len(s) >= 10) and any(char.islower() for char in s) and any(char.isupper() for char in s)\n",
    "    return \"Valid String\" if check(s) else \"Invalid String\"\n",
    "\n",
    "s = 'Pace Wisdom'\n",
    "\n",
    "validString(s)\n",
    "\n"
   ]
  },
  {
   "cell_type": "markdown",
   "metadata": {},
   "source": [
    "9) Write a Python program to find the elements of a given list of strings that contain specific substring using lambda. \n",
    "\n",
    "    Original list: ['red', 'black', 'white', 'green', 'orange'] \n",
    "\n",
    "    Substring to search: ack Elements of the said list that contain specific \n",
    "\n",
    "    substring: ['black'] Substring to search: abc Elements of the said list that contain specific substring: []"
   ]
  },
  {
   "cell_type": "code",
   "execution_count": 166,
   "metadata": {},
   "outputs": [
    {
     "data": {
      "text/plain": [
       "['black']"
      ]
     },
     "execution_count": 166,
     "metadata": {},
     "output_type": "execute_result"
    }
   ],
   "source": [
    "list1 = ['red', 'black', 'white', 'green', 'orange']\n",
    "subStr = list(filter(lambda sub: 'ack' in sub ,list1))\n",
    "subStr"
   ]
  },
  {
   "cell_type": "markdown",
   "metadata": {},
   "source": [
    "10) Write a Python program to sort a given mixed list of integers and strings using lambda. Numbers must be sorted before strings. \n",
    "\n",
    "    Original list: [19, 'red', 12, 'green', 'blue', 10, 'white', 'green', 1] \n",
    "\n",
    "    Sort the said mixed list of integers and strings: [1, 10, 12, 19, 'blue', 'green', 'green', 'red', 'white']"
   ]
  },
  {
   "cell_type": "code",
   "execution_count": 170,
   "metadata": {},
   "outputs": [
    {
     "data": {
      "text/plain": [
       "[1, 10, 12, 19, 'blue', 'green', 'green', 'red', 'white']"
      ]
     },
     "execution_count": 170,
     "metadata": {},
     "output_type": "execute_result"
    }
   ],
   "source": [
    "list2 = [19, 'red', 12, 'green', 'blue', 10, 'white', 'green', 1]\n",
    "sorted_list = sorted(list2, key= lambda x : (isinstance(x, str) , x))\n",
    "sorted_list"
   ]
  }
 ],
 "metadata": {
  "kernelspec": {
   "display_name": "Python 3",
   "language": "python",
   "name": "python3"
  },
  "language_info": {
   "codemirror_mode": {
    "name": "ipython",
    "version": 3
   },
   "file_extension": ".py",
   "mimetype": "text/x-python",
   "name": "python",
   "nbconvert_exporter": "python",
   "pygments_lexer": "ipython3",
   "version": "3.12.4"
  }
 },
 "nbformat": 4,
 "nbformat_minor": 2
}
