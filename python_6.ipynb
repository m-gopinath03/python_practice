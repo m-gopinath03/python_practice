{
 "cells": [
  {
   "cell_type": "markdown",
   "metadata": {},
   "source": [
    "1. Write a Python script to sort (ascending and descending) a dictionary by value."
   ]
  },
  {
   "cell_type": "code",
   "execution_count": 4,
   "metadata": {},
   "outputs": [
    {
     "name": "stdout",
     "output_type": "stream",
     "text": [
      "[60, 50, 40, 30, 20, 10]\n"
     ]
    },
    {
     "data": {
      "text/plain": [
       "[10, 20, 30, 40, 50, 60]"
      ]
     },
     "execution_count": 4,
     "metadata": {},
     "output_type": "execute_result"
    }
   ],
   "source": [
    "def ascending(dict1: dict):\n",
    "        return sorted(dict1.values())\n",
    "def descending(dict1:dict):\n",
    "        return sorted(dict1.values(), reverse=True)\n",
    "\n",
    "dict1 = {1: 10, 2: 20, 3: 30, 4: 40, 5: 50, 6: 60}\n",
    "\n",
    "print(descending(dict1))\n",
    "ascending(dict1)"
   ]
  },
  {
   "cell_type": "markdown",
   "metadata": {},
   "source": [
    "2. Write a Python script to add a key to a dictionary.\n",
    "\n",
    "    Sample Dictionary : {0: 10, 1: 20}\n",
    "\n",
    "    Expected Result : {0: 10, 1: 20, 2: 30}"
   ]
  },
  {
   "cell_type": "code",
   "execution_count": 7,
   "metadata": {},
   "outputs": [
    {
     "data": {
      "text/plain": [
       "{0: 10, 1: 20, 2: 30}"
      ]
     },
     "execution_count": 7,
     "metadata": {},
     "output_type": "execute_result"
    }
   ],
   "source": [
    "dict1 = {0:10,1:20}\n",
    "dict1[2] = 30\n",
    "dict1\n"
   ]
  },
  {
   "cell_type": "markdown",
   "metadata": {},
   "source": [
    "3. Write a Python script to concatenate following dictionaries to create a new one.\n",
    "\n",
    "    Sample Dictionary :\n",
    "\n",
    "    dic1={1:10, 2:20}\n",
    "\n",
    "    dic2={3:30, 4:40}\n",
    "\n",
    "    dic3={5:50,6:60}\n",
    "\n",
    "    Expected Result : {1: 10, 2: 20, 3: 30, 4: 40, 5: 50, 6: 60}"
   ]
  },
  {
   "cell_type": "code",
   "execution_count": 8,
   "metadata": {},
   "outputs": [
    {
     "data": {
      "text/plain": [
       "{1: 10, 2: 20, 3: 30, 4: 40, 5: 50, 6: 60}"
      ]
     },
     "execution_count": 8,
     "metadata": {},
     "output_type": "execute_result"
    }
   ],
   "source": [
    "dic1={1:10, 2:20}\n",
    "\n",
    "dic2={3:30, 4:40}\n",
    "\n",
    "dic3={5:50,6:60}\n",
    "\n",
    "dic1 |= dic2 \n",
    "dic1 |= dic3\n",
    "\n",
    "dic1"
   ]
  },
  {
   "cell_type": "markdown",
   "metadata": {},
   "source": [
    "4. Write a Python script to check if a given key already exists in a dictionary."
   ]
  },
  {
   "cell_type": "code",
   "execution_count": 9,
   "metadata": {},
   "outputs": [
    {
     "data": {
      "text/plain": [
       "True"
      ]
     },
     "execution_count": 9,
     "metadata": {},
     "output_type": "execute_result"
    }
   ],
   "source": [
    "d1 = {1: 10, 2: 20, 3: 30, 4: 40, 5: 50, 6: 60}\n",
    "key = 4\n",
    "\n",
    "key in d1"
   ]
  },
  {
   "cell_type": "markdown",
   "metadata": {},
   "source": [
    "5. Write a Python program to iterate over dictionaries using for loops."
   ]
  },
  {
   "cell_type": "code",
   "execution_count": 10,
   "metadata": {},
   "outputs": [
    {
     "name": "stdout",
     "output_type": "stream",
     "text": [
      "1 10\n",
      "2 20\n",
      "3 30\n",
      "4 40\n",
      "5 50\n",
      "6 60\n"
     ]
    }
   ],
   "source": [
    "d1 = {1: 10, 2: 20, 3: 30, 4: 40, 5: 50, 6: 60}\n",
    "\n",
    "for key, value in d1.items():\n",
    "    print(key,value)"
   ]
  },
  {
   "cell_type": "markdown",
   "metadata": {},
   "source": [
    "6. Write a Python script to generate and print a dictionary that contains a number (between 1 and n) in the form (x, x*x). \n",
    "\n",
    "    Sample Dictionary ( n = 5) :\n",
    "\n",
    "    Expected Output : {1: 1, 2: 4, 3: 9, 4: 16, 5: 25}"
   ]
  },
  {
   "cell_type": "code",
   "execution_count": 17,
   "metadata": {},
   "outputs": [
    {
     "data": {
      "text/plain": [
       "{1: 1, 2: 4, 3: 9, 4: 16, 5: 25}"
      ]
     },
     "execution_count": 17,
     "metadata": {},
     "output_type": "execute_result"
    }
   ],
   "source": [
    "def genDict(num:int) -> dict:\n",
    "    return {x:x*x for x in range(1,num+1)}\n",
    "\n",
    "n = 5\n",
    "genDict(n)"
   ]
  },
  {
   "cell_type": "markdown",
   "metadata": {},
   "source": [
    "7. Write a Python script to merge two Python dictionaries."
   ]
  },
  {
   "cell_type": "code",
   "execution_count": 45,
   "metadata": {},
   "outputs": [
    {
     "name": "stdout",
     "output_type": "stream",
     "text": [
      "{1: 'one', 2: 'two', 3: 'three', 4: 'four'}\n"
     ]
    }
   ],
   "source": [
    "dict1 = {1:'one',2:'two'}\n",
    "dict2 = {3:'three',4:'four'}\n",
    "# for key in dict2:\n",
    "#     dict1[key] = dict2[key]\n",
    "dict1 |= dict2    \n",
    "print(dict1)"
   ]
  },
  {
   "cell_type": "markdown",
   "metadata": {},
   "source": [
    "\n",
    "8.  Write a Python program to sum all the items in a dictionary."
   ]
  },
  {
   "cell_type": "code",
   "execution_count": 49,
   "metadata": {},
   "outputs": [
    {
     "data": {
      "text/plain": [
       "92"
      ]
     },
     "execution_count": 49,
     "metadata": {},
     "output_type": "execute_result"
    }
   ],
   "source": [
    "dict1 = {1: 23, 2: 23, 3: 23, 4: 23}\n",
    "sum(dict1.values())"
   ]
  },
  {
   "cell_type": "markdown",
   "metadata": {},
   "source": [
    "\n",
    "9. Write a Python program to multiply all the items in a dictionary."
   ]
  },
  {
   "cell_type": "code",
   "execution_count": 52,
   "metadata": {},
   "outputs": [
    {
     "name": "stdout",
     "output_type": "stream",
     "text": [
      "279841\n"
     ]
    }
   ],
   "source": [
    "dict1 = {1: 23, 2: 23, 3: 23, 4: 23}\n",
    "product = 1\n",
    "for value in dict1.values():\n",
    "    product *= value\n",
    "print(product)"
   ]
  },
  {
   "cell_type": "markdown",
   "metadata": {},
   "source": [
    "\n",
    "10. Write a Python program to remove a key from a dictionary. "
   ]
  },
  {
   "cell_type": "code",
   "execution_count": 56,
   "metadata": {},
   "outputs": [
    {
     "data": {
      "text/plain": [
       "{1: 'one', 2: 'two', 3: 'three'}"
      ]
     },
     "execution_count": 56,
     "metadata": {},
     "output_type": "execute_result"
    }
   ],
   "source": [
    "dict1 = {1: 'one', 2: 'two', 3: 'three', 4: 'four'}\n",
    "dict1.pop(4)\n",
    "# del dict1[4]\n",
    "dict1"
   ]
  },
  {
   "cell_type": "markdown",
   "metadata": {},
   "source": [
    "\n",
    "11. Write a Python program to sort a dictionary by key."
   ]
  },
  {
   "cell_type": "code",
   "execution_count": 60,
   "metadata": {},
   "outputs": [
    {
     "name": "stdout",
     "output_type": "stream",
     "text": [
      "{1: 'one', 2: 'two', 3: 'three', 4: 'four'}\n"
     ]
    }
   ],
   "source": [
    "dict1 = {2: 'two', 3: 'three', 4: 'four', 1:'one'}\n",
    "sorted_dict = dict(sorted(dict1.items()))\n",
    "print(sorted_dict)"
   ]
  },
  {
   "cell_type": "markdown",
   "metadata": {},
   "source": [
    "\n",
    "12. Write a Python program to get the maximum and minimum value in a dictionary. \n"
   ]
  },
  {
   "cell_type": "code",
   "execution_count": 64,
   "metadata": {},
   "outputs": [
    {
     "name": "stdout",
     "output_type": "stream",
     "text": [
      "20\n"
     ]
    },
    {
     "data": {
      "text/plain": [
       "2"
      ]
     },
     "execution_count": 64,
     "metadata": {},
     "output_type": "execute_result"
    }
   ],
   "source": [
    "dict1 = {'two': 2, 'twenty': 20, 'six': 6, 'twelve': 12}\n",
    "print(max(dict1.values()))\n",
    "min(dict1.values())"
   ]
  },
  {
   "cell_type": "markdown",
   "metadata": {},
   "source": [
    "13. Write a Python program to remove duplicates from Dictionary."
   ]
  },
  {
   "cell_type": "code",
   "execution_count": 79,
   "metadata": {},
   "outputs": [
    {
     "name": "stdout",
     "output_type": "stream",
     "text": [
      "{'name': 'gopi', 'class': 'super'}\n"
     ]
    }
   ],
   "source": [
    "dict1 = {'name': 'gopi','class':'super','NAM': 'gopi'}\n",
    "unique_dict = {}\n",
    "seen = set()\n",
    "for key,value in dict1.items():\n",
    "    if value not in seen:\n",
    "        seen.add(value)\n",
    "        unique_dict[key] = value\n",
    "print(unique_dict)"
   ]
  },
  {
   "cell_type": "markdown",
   "metadata": {},
   "source": [
    "\n",
    "14. Write a Python program to check a dictionary is empty or not."
   ]
  },
  {
   "cell_type": "code",
   "execution_count": 82,
   "metadata": {},
   "outputs": [
    {
     "data": {
      "text/plain": [
       "True"
      ]
     },
     "execution_count": 82,
     "metadata": {},
     "output_type": "execute_result"
    }
   ],
   "source": [
    "def checkDictEmpty(dict1:dict) -> bool:\n",
    "    return len(dict1) == 0\n",
    "\n",
    "dict1 = {}\n",
    "checkDictEmpty(dict1)"
   ]
  },
  {
   "cell_type": "markdown",
   "metadata": {},
   "source": [
    "15. Write a Python program to combine two dictionary adding values for common keys.\n",
    "\n",
    "    d1 = {'a': 100, 'b': 200, 'c':300}\n",
    "\n",
    "    d2 = {'a': 300, 'b': 200, 'd':400}\n",
    "\n",
    "    Sample output: Counter({'a': 400, 'b': 400, 'd': 400, 'c': 300})"
   ]
  },
  {
   "cell_type": "code",
   "execution_count": 100,
   "metadata": {},
   "outputs": [
    {
     "name": "stdout",
     "output_type": "stream",
     "text": [
      "{'a': 400, 'b': 400, 'c': 300, 'd': 400}\n"
     ]
    }
   ],
   "source": [
    "d1 = {'a': 100, 'b': 200, 'c':300}\n",
    "d2 = {'a': 300, 'b': 200, 'd':400}\n",
    "d3 = dict()\n",
    "for key in d1:\n",
    "    if key in d2:\n",
    "        d3[key] = d1[key] + d2[key]\n",
    "    else:\n",
    "        d3[key] = d1[key]\n",
    "for key in d2:\n",
    "    if key not in d3:\n",
    "        d3[key] = d2[key]\n",
    "print(d3)"
   ]
  },
  {
   "cell_type": "markdown",
   "metadata": {},
   "source": [
    "16. Write a Python program to find the highest 3 values in a dictionary."
   ]
  },
  {
   "cell_type": "code",
   "execution_count": 102,
   "metadata": {},
   "outputs": [
    {
     "data": {
      "text/plain": [
       "(400, 300, 200)"
      ]
     },
     "execution_count": 102,
     "metadata": {},
     "output_type": "execute_result"
    }
   ],
   "source": [
    "def highestThreeValue(dict2: dict):\n",
    "    if len(dict2) < 3:\n",
    "        return \"Minimum of 3 key-value pair required\"\n",
    "    dict3 = sorted(dict2.values(),reverse=True)\n",
    "    value1, value2, value3 = dict3[0],dict3[1],dict3[2]\n",
    "    return value1,value2, value3\n",
    "        \n",
    "dict2 = {'d':400,'a': 100, 'b': 200, 'c':300}\n",
    "highestThreeValue(dict2)"
   ]
  },
  {
   "cell_type": "markdown",
   "metadata": {},
   "source": [
    "17. Write a Python program to match key values in two dictionaries.\n",
    "\n",
    "    Sample dictionary: {'key1': 1, 'key2': 3, 'key3': 2}, {'key1': 1, 'key2': 2}\n",
    "\n",
    "    Expected output: key1: 1 is present in both x and y"
   ]
  },
  {
   "cell_type": "code",
   "execution_count": 110,
   "metadata": {},
   "outputs": [
    {
     "name": "stdout",
     "output_type": "stream",
     "text": [
      "{'key1': 1}\n"
     ]
    }
   ],
   "source": [
    "d1 = {'key1':1,'key2':2,'key3':3}\n",
    "d2 = {'key1':1,'key2':3}\n",
    "d3 = dict()\n",
    "for key in d1:\n",
    "    if key in d2 and (d1[key] == d2[key]):  \n",
    "            d3[key] = d1[key]\n",
    "\n",
    "print(d3)"
   ]
  },
  {
   "cell_type": "markdown",
   "metadata": {},
   "source": [
    "18. Write a Python program to check if all dictionaries in a list are empty or not.\n",
    "\n",
    "    Sample list : [{},{},{}]\n",
    "\n",
    "    Return value : True\n",
    "\n",
    "    Sample list : [{1,2},{},{}]\n",
    "\n",
    "    Return value : False"
   ]
  },
  {
   "cell_type": "code",
   "execution_count": 114,
   "metadata": {},
   "outputs": [
    {
     "name": "stdout",
     "output_type": "stream",
     "text": [
      "True\n"
     ]
    },
    {
     "data": {
      "text/plain": [
       "False"
      ]
     },
     "execution_count": 114,
     "metadata": {},
     "output_type": "execute_result"
    }
   ],
   "source": [
    "def CheckList(list1:list) -> bool:\n",
    "    return all(len(d) == 0 for d in list1)\n",
    "\n",
    "list1 = [{},{},{}]\n",
    "list2 = [{1:1},{}]\n",
    "print(CheckList(list1))\n",
    "CheckList(list2)"
   ]
  },
  {
   "cell_type": "markdown",
   "metadata": {},
   "source": [
    "19. Write a Python program to remove duplicates from a list of lists.\n",
    "\n",
    "    Sample list : [[10, 20], [40], [30, 56, 25], [10, 20], [33], [40]]\n",
    "\n",
    "    New List : [[10, 20], [30, 56, 25], [33], [40]]"
   ]
  },
  {
   "cell_type": "code",
   "execution_count": 121,
   "metadata": {},
   "outputs": [
    {
     "data": {
      "text/plain": [
       "[[10, 20], [40], [30, 56, 25], [33]]"
      ]
     },
     "execution_count": 121,
     "metadata": {},
     "output_type": "execute_result"
    }
   ],
   "source": [
    "list1 = [[10, 20], [40], [30, 56, 25], [10, 20], [33], [40]]\n",
    "list2 = []\n",
    "for i in list1:\n",
    "    if i not in list2:\n",
    "        list2.append(i)\n",
    "list2"
   ]
  },
  {
   "cell_type": "markdown",
   "metadata": {},
   "source": [
    "20. Write a Python program to extend a list without append.\n",
    "\n",
    "    Sample data: [10, 20, 30]\n",
    "    [40, 50, 60]\n",
    "\n",
    "    Expected output : [40, 50, 60, 10, 20, 30]"
   ]
  },
  {
   "cell_type": "code",
   "execution_count": 124,
   "metadata": {},
   "outputs": [
    {
     "data": {
      "text/plain": [
       "[10, 20, 30, 40, 50, 60]"
      ]
     },
     "execution_count": 124,
     "metadata": {},
     "output_type": "execute_result"
    }
   ],
   "source": [
    "l1 = [10, 20, 30]\n",
    "l2 = [40, 50, 60]\n",
    "l1 + l2\n",
    "# l1.extend(l2)"
   ]
  }
 ],
 "metadata": {
  "kernelspec": {
   "display_name": "Python 3",
   "language": "python",
   "name": "python3"
  },
  "language_info": {
   "codemirror_mode": {
    "name": "ipython",
    "version": 3
   },
   "file_extension": ".py",
   "mimetype": "text/x-python",
   "name": "python",
   "nbconvert_exporter": "python",
   "pygments_lexer": "ipython3",
   "version": "3.12.4"
  }
 },
 "nbformat": 4,
 "nbformat_minor": 2
}
