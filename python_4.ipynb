{
 "cells": [
  {
   "cell_type": "markdown",
   "metadata": {},
   "source": [
    "1. Write a Python program to calculate the length of a string."
   ]
  },
  {
   "cell_type": "code",
   "execution_count": 3,
   "metadata": {},
   "outputs": [
    {
     "name": "stdout",
     "output_type": "stream",
     "text": [
      "Length of string is : 8\n"
     ]
    }
   ],
   "source": [
    "def length_of_str(s:str) -> int:\n",
    "    length = 0\n",
    "    for ch in s:\n",
    "        length += 1\n",
    "    return length\n",
    "\n",
    "s = input(\"Enter a string: \")\n",
    "length = length_of_str(s)\n",
    "print(f\"Length of string is : {length}\")"
   ]
  },
  {
   "cell_type": "markdown",
   "metadata": {},
   "source": [
    "2. Write a Python program to count the number of characters (character frequency) in a string.\n",
    "\n",
    "    Sample String : google.com'\n",
    "\n",
    "    Expected Result : {'o': 3, 'g': 2, '.': 1, 'e': 1, 'l': 1, 'm': 1, 'c': 1}"
   ]
  },
  {
   "cell_type": "code",
   "execution_count": 4,
   "metadata": {},
   "outputs": [
    {
     "name": "stdout",
     "output_type": "stream",
     "text": [
      "{'g': 2, 'o': 3, 'l': 1, 'e': 1, '.': 1, 'c': 1, 'm': 1}\n"
     ]
    }
   ],
   "source": [
    "def freq_count(s:str) -> dict:\n",
    "    dict = {}\n",
    "    for ch in s:\n",
    "        if ch in dict:\n",
    "            dict[ch] += 1\n",
    "        else:\n",
    "            dict[ch] = 1\n",
    "    return dict\n",
    "\n",
    "s = input(\"Enter a string: \")\n",
    "frequency = freq_count(s)\n",
    "print(frequency)\n"
   ]
  },
  {
   "cell_type": "markdown",
   "metadata": {},
   "source": [
    "3. Write a Python program to get a string made of the first 2 and the last 2 chars from a given a string. If the string length is less than 2, return instead of the empty string. \n",
    "\n",
    "    Sample String : 'thisisniceone'\n",
    "\n",
    "    Expected Result : 'thne”'\n",
    "\n",
    "    Sample String : 'ab'\n",
    "\n",
    "    Expected Result : 'abab'\n",
    "\n",
    "    Sample String : 'f'\n",
    "\n",
    "    Expected Result : Empty String \n"
   ]
  },
  {
   "cell_type": "code",
   "execution_count": 5,
   "metadata": {},
   "outputs": [
    {
     "name": "stdout",
     "output_type": "stream",
     "text": [
      "abab\n"
     ]
    }
   ],
   "source": [
    "def pattern(s: str) -> str:\n",
    "    n = len(s)\n",
    "    if n < 2:\n",
    "        return ''\n",
    "    else:\n",
    "        return s[0] + s[1] + s[n-2] + s[n-1]\n",
    "\n",
    "s = input(\"Enter a string: \")\n",
    "pattern_req = pattern(s)\n",
    "print(s)"
   ]
  },
  {
   "cell_type": "markdown",
   "metadata": {},
   "source": [
    "4. Write a Python program to get a string from a given string where all occurrences of its first char have been changed to '$', except the first char itself.\n",
    "\n",
    "    Sample String : 'restart'\n",
    "\n",
    "    Expected Result : 'resta$t'"
   ]
  },
  {
   "cell_type": "code",
   "execution_count": 7,
   "metadata": {},
   "outputs": [
    {
     "name": "stdout",
     "output_type": "stream",
     "text": [
      "resta$t\n"
     ]
    }
   ],
   "source": [
    "def change_str(s: str, target:str) -> str:\n",
    "    new_s = target\n",
    "    n = len(s)\n",
    "    for i in range(1,n):\n",
    "        if s[i] == target:\n",
    "            new_s += '$'\n",
    "        else:\n",
    "            new_s += s[i]\n",
    "    return new_s\n",
    "\n",
    "s = input(\"Enter a string: \")\n",
    "target = s[0]\n",
    "output = change_str(s, target)\n",
    "print(output)"
   ]
  },
  {
   "cell_type": "markdown",
   "metadata": {},
   "source": [
    "5. Write a Python program to get a single string from two given strings, separated by a space and swap the first two characters of each string.\n",
    "\n",
    "    Sample String : 'abc', 'xyz' \n",
    "\n",
    "    Expected Result : 'xyc abz'\n"
   ]
  },
  {
   "cell_type": "code",
   "execution_count": 15,
   "metadata": {},
   "outputs": [
    {
     "name": "stdout",
     "output_type": "stream",
     "text": [
      "xyc abz\n"
     ]
    }
   ],
   "source": [
    "def combineStr(s1:str, s2:str) -> str:\n",
    "    n1 = len(s1)\n",
    "    n2 = len(s2)\n",
    "    if n1 < 2 or n2 < 2 :\n",
    "        return \"Invalid Input : Minimum 2 characters string input is required\"\n",
    "    else:      \n",
    "        new_s = s2[0] + s2[1]\n",
    "        \n",
    "        for i in range(2, n1):\n",
    "            new_s += s1[i] \n",
    "        new_s += ' ' + s1[0] + s1[1]\n",
    "        \n",
    "        for i in range(2, n2):\n",
    "            new_s += s2[i]  \n",
    "        \n",
    "        return new_s\n",
    "\n",
    "s1 = input(\"Enter a string: \")\n",
    "s2 = input(\"Enter a string: \")\n",
    "output = combineStr(s1, s2)\n",
    "print(output)"
   ]
  },
  {
   "cell_type": "markdown",
   "metadata": {},
   "source": [
    "6. Write a Python program to add 'ing' at the end of a given string (length should be at least 3). If the given string already ends with 'ing' then add 'ly' instead. If the string length of the given string is less than 3, leave it unchanged.\n",
    "\n",
    "    Sample String : 'abc'\n",
    "\n",
    "    Expected Result : 'abcing' \n",
    "\n",
    "    Sample String : 'string'\n",
    "\n",
    "    Expected Result : 'stringly'\n"
   ]
  },
  {
   "cell_type": "code",
   "execution_count": 17,
   "metadata": {},
   "outputs": [
    {
     "name": "stdout",
     "output_type": "stream",
     "text": [
      "stringly\n"
     ]
    }
   ],
   "source": [
    "def modifyString(s:str) -> str:\n",
    "    n = len(s)\n",
    "    if n < 3:\n",
    "        return s\n",
    "    else:\n",
    "        if (s[n-3] + s[n-2] + s[n-1]) == 'ing' :\n",
    "            s += 'ly'\n",
    "        else:\n",
    "            s += 'ing'\n",
    "        return s\n",
    "    \n",
    "s = input(\"Enter a string: \")\n",
    "output = modifyString(s)\n",
    "print(output)       "
   ]
  },
  {
   "cell_type": "markdown",
   "metadata": {},
   "source": [
    "7. Write a Python program to find the first appearance of the substring 'not' and 'poor' from a given string, if 'not' follows the 'poor', replace the whole 'not'...'poor' substring with 'good'. Return the resulting string.\n",
    "\n",
    "    Sample String : 'The lyrics is not that poor!'\n",
    "    'The lyrics is poor!'\n",
    "\n",
    "    Expected Result : 'The lyrics is good!'\n",
    "    'The lyrics is poor!'\n"
   ]
  },
  {
   "cell_type": "code",
   "execution_count": 22,
   "metadata": {},
   "outputs": [
    {
     "name": "stdout",
     "output_type": "stream",
     "text": [
      "The lyrics is good!' 'The lyrics is poor!\n"
     ]
    }
   ],
   "source": [
    "def replaceWords(s:str, target1:str, target2:str) -> str:\n",
    "    new_list = list(s)\n",
    "    n = len(new_list)\n",
    "    for i in range(n-2):\n",
    "        if (new_list[i] + new_list[i+1] + new_list[i+2]) == target1:    # target1 is 'not'\n",
    "            k = i\n",
    "            for j in range(i+3,n-3):\n",
    "                if (new_list[j] + new_list[j+1] + new_list[j+2] + new_list[j+3]) == target2:   # target2 is 'poor'\n",
    "                    g = j+3\n",
    "                    new_list[k:g+1] = 'good'\n",
    "                    break\n",
    "            break\n",
    "    return ''.join(new_list)\n",
    "\n",
    "s = input(\"Enter a string: \")\n",
    "output = replaceWords(s,'not','poor')\n",
    "print(output)"
   ]
  },
  {
   "cell_type": "markdown",
   "metadata": {},
   "source": [
    "8. Write a Python function that takes a list of words and returns the length of the longest one. "
   ]
  },
  {
   "cell_type": "code",
   "execution_count": 26,
   "metadata": {},
   "outputs": [
    {
     "name": "stdout",
     "output_type": "stream",
     "text": [
      "9\n"
     ]
    }
   ],
   "source": [
    "def length_longest_words(ListOfWords: list) -> int:\n",
    "    n = len(ListOfWords)\n",
    "    max_length = len(ListOfWords[0])\n",
    "    for i in range(1, n):\n",
    "        if len(ListOfWords[i]) > max_length:\n",
    "            max_length = len(ListOfWords[i])\n",
    "        \n",
    "    return max_length\n",
    "\n",
    "wordList = list(map(str, input().split()))\n",
    "output = length_longest_words(wordList)\n",
    "print(output)"
   ]
  },
  {
   "cell_type": "markdown",
   "metadata": {},
   "source": [
    "9. Write a Python program to remove the nth index character from a nonempty string."
   ]
  },
  {
   "cell_type": "code",
   "execution_count": 29,
   "metadata": {},
   "outputs": [
    {
     "name": "stdout",
     "output_type": "stream",
     "text": [
      "paceisdom\n"
     ]
    }
   ],
   "source": [
    "def removingChar(s:str, n:int) -> str:\n",
    "    list1 = list(s)\n",
    "    list1.pop(n - 1)\n",
    "    return ''.join(list1)\n",
    "\n",
    "s = input(\"Enter a string: \")\n",
    "n = int(input(\"Enter a integer: \"))\n",
    "output = removingChar(s, n)\n",
    "print(output)"
   ]
  },
  {
   "cell_type": "markdown",
   "metadata": {},
   "source": [
    "10. Write a Python program that accepts a comma separated sequence of words as input and prints the unique words in sorted form (alphanumerically). \n",
    "\n",
    "    Sample Words : red, white, black, red, green, black\n",
    "\n",
    "    Expected Result : black, green, red, white\n"
   ]
  },
  {
   "cell_type": "code",
   "execution_count": 7,
   "metadata": {},
   "outputs": [
    {
     "name": "stdout",
     "output_type": "stream",
     "text": [
      "black, green, red, white\n"
     ]
    }
   ],
   "source": [
    "def sortWords(s:str) -> str:\n",
    "    words = [word.strip() for word in s.split(',')]\n",
    "    unique_words = list(set(words))\n",
    "    unique_words.sort()\n",
    "    return ', '.join(unique_words)\n",
    "\n",
    "s = input(\"Enter a string: \")\n",
    "output = sortWords(s)\n",
    "print(output)"
   ]
  },
  {
   "cell_type": "markdown",
   "metadata": {},
   "source": [
    "11. Write a Python function to reverses a string if it's length is a multiple of 4. "
   ]
  },
  {
   "cell_type": "code",
   "execution_count": 13,
   "metadata": {},
   "outputs": [
    {
     "name": "stdout",
     "output_type": "stream",
     "text": [
      "pace wisdom\n"
     ]
    }
   ],
   "source": [
    "def reverseIf(s:str, n:int) -> str:\n",
    "    if len(s) % n == 0:\n",
    "        return s[::-1]\n",
    "    else:\n",
    "        return s\n",
    "    \n",
    "s = input(\"Enter a string: \")\n",
    "n = 4\n",
    "output = reverseIf(s,n)\n",
    "print(output)"
   ]
  },
  {
   "cell_type": "markdown",
   "metadata": {},
   "source": [
    "12. Write a Python function to convert a given string to all uppercase if it contains at least 2 uppercase characters in the first 4 characters."
   ]
  },
  {
   "cell_type": "code",
   "execution_count": 20,
   "metadata": {},
   "outputs": [
    {
     "name": "stdout",
     "output_type": "stream",
     "text": [
      "CAT\n"
     ]
    }
   ],
   "source": [
    "def convertToUpper(s:str) -> str:\n",
    "    count = 0\n",
    "    n = min(4, len(s))\n",
    "    for i in range(n):\n",
    "        if s[i].isupper():\n",
    "            count += 1\n",
    "            \n",
    "    if count < 2:\n",
    "        return s\n",
    "    else:\n",
    "        return s.upper()\n",
    "\n",
    "s = input(\"Enter a string: \")\n",
    "output = convertToUpper(s)\n",
    "print(output)"
   ]
  },
  {
   "cell_type": "markdown",
   "metadata": {},
   "source": [
    "13. Write a Python program to check whether a string starts with specified characters."
   ]
  },
  {
   "cell_type": "code",
   "execution_count": 23,
   "metadata": {},
   "outputs": [
    {
     "name": "stdout",
     "output_type": "stream",
     "text": [
      "False\n"
     ]
    }
   ],
   "source": [
    "def specifiedCharacters(s:str, special:str) -> bool:\n",
    "    return s.startswith(special)\n",
    "    \n",
    "s = input(\"Enter a string: \")\n",
    "output = specifiedCharacters(s, 'gopi')\n",
    "print(output)"
   ]
  },
  {
   "cell_type": "markdown",
   "metadata": {},
   "source": [
    "14. Write a Python program to print the following floating numbers upto 2 decimal places.\n",
    "3.1415926\n"
   ]
  },
  {
   "cell_type": "code",
   "execution_count": 26,
   "metadata": {},
   "outputs": [
    {
     "name": "stdout",
     "output_type": "stream",
     "text": [
      "3.14\n",
      "3.14\n"
     ]
    }
   ],
   "source": [
    "number = 3.1415926\n",
    "\n",
    "# 1)\n",
    "print(f\"{number:.2f}\")\n",
    "\n",
    "# 2)\n",
    "rounded_num = round(number,2)\n",
    "print(f\"{rounded_num}\")"
   ]
  },
  {
   "cell_type": "markdown",
   "metadata": {},
   "source": [
    "15. Write a Python program to count repeated characters in a string.\n",
    "\n",
    "    Sample string: 'thequickbrownfoxjumpsoverthelazydog'\n",
    "\n",
    "    Expected output :\n",
    "    o 4\n",
    "\n",
    "    e 3\n",
    "\n",
    "    u 2\n",
    "\n",
    "    h 2\n",
    "\n",
    "    r 2\n",
    "    \n",
    "    t 2\n"
   ]
  },
  {
   "cell_type": "code",
   "execution_count": 29,
   "metadata": {},
   "outputs": [
    {
     "name": "stdout",
     "output_type": "stream",
     "text": [
      "g 1\n",
      "o 1\n",
      "p 1\n",
      "i 1\n",
      "n 1\n",
      "a 1\n",
      "t 1\n",
      "h 1\n"
     ]
    }
   ],
   "source": [
    "def countCharacters(s:str):\n",
    "    dict1 = {}\n",
    "    for i in s:\n",
    "        if i in dict1:\n",
    "            dict1[i] += 1\n",
    "        else:\n",
    "            dict1[i] = 1\n",
    "    for key,value in dict1.items():\n",
    "        print(f\"{key} {value}\")\n",
    "        \n",
    "s = input(\"Enter a string: \")\n",
    "output = countCharacters(s)"
   ]
  },
  {
   "cell_type": "markdown",
   "metadata": {},
   "source": [
    "16. Write a Python program to print the index of the character in a string."
   ]
  },
  {
   "cell_type": "code",
   "execution_count": 33,
   "metadata": {},
   "outputs": [
    {
     "name": "stdout",
     "output_type": "stream",
     "text": [
      "0 p\n",
      "1 a\n",
      "2 c\n",
      "3 e\n",
      "4 w\n",
      "5 i\n",
      "6 s\n",
      "7 d\n",
      "8 o\n",
      "9 m\n"
     ]
    }
   ],
   "source": [
    "s = input(\"Enter a string: \")\n",
    "for i,ch in enumerate(s):\n",
    "    print(f\"{i} {ch}\")"
   ]
  },
  {
   "cell_type": "markdown",
   "metadata": {},
   "source": [
    "17. Write a Python program to convert a string in a list."
   ]
  },
  {
   "cell_type": "code",
   "execution_count": 34,
   "metadata": {},
   "outputs": [
    {
     "name": "stdout",
     "output_type": "stream",
     "text": [
      "['g', 'o', 'p', 'i']\n"
     ]
    }
   ],
   "source": [
    "s = input(\"Enter a string: \")\n",
    "list1 = list(s)\n",
    "print(list1)"
   ]
  },
  {
   "cell_type": "markdown",
   "metadata": {},
   "source": [
    "18. Write a Python program to swap comma and dot in a string.\n",
    "\n",
    "    Sample string: \"32.054,23\"\n",
    "\n",
    "    Expected Output: \"32,054.23\""
   ]
  },
  {
   "cell_type": "code",
   "execution_count": 35,
   "metadata": {},
   "outputs": [
    {
     "name": "stdout",
     "output_type": "stream",
     "text": [
      "32,054.23\n"
     ]
    }
   ],
   "source": [
    "def swapComma(s:str) -> str:\n",
    "    tem_placeholder = '#'\n",
    "    s = s.replace(',',tem_placeholder)\n",
    "    s = s.replace('.',',')\n",
    "    s = s.replace(tem_placeholder,'.')\n",
    "    return s\n",
    "\n",
    "s = input(\"Enter a string: \")\n",
    "output = swapComma(s)\n",
    "print(output)"
   ]
  },
  {
   "cell_type": "markdown",
   "metadata": {},
   "source": [
    "19. Write a Python program to find smallest and largest word in a given string."
   ]
  },
  {
   "cell_type": "code",
   "execution_count": 44,
   "metadata": {},
   "outputs": [
    {
     "name": "stdout",
     "output_type": "stream",
     "text": [
      "Smallest word: Pace\n",
      "Largest word: Wisdom\n"
     ]
    }
   ],
   "source": [
    "def findSmallLarge(s:str) -> str:\n",
    "    list1 = s.split()\n",
    "    small = large = list1[0]\n",
    "    for i in list1[1:]:\n",
    "        if len(i) < len(small):\n",
    "            small = i\n",
    "        elif len(i) > len(large):\n",
    "            large = i\n",
    "    return small, large\n",
    "\n",
    "s = input(\"Enter a string: \")\n",
    "smallest, largest = findSmallLarge(s)\n",
    "print(f\"Smallest word: {smallest}\")\n",
    "print(f\"Largest word: {largest}\")"
   ]
  },
  {
   "cell_type": "markdown",
   "metadata": {},
   "source": [
    "20. Write a Python program to remove all consecutive duplicates of a given string."
   ]
  },
  {
   "cell_type": "code",
   "execution_count": 48,
   "metadata": {},
   "outputs": [
    {
     "name": "stdout",
     "output_type": "stream",
     "text": [
      "Stel\n"
     ]
    }
   ],
   "source": [
    "def consecutiveDuplicates(s:str) -> str:\n",
    "    result = s[0]\n",
    "    for i in range(1,len(s)):\n",
    "        if s[i] != result[-1]:\n",
    "            result += s[i]\n",
    "    return result\n",
    "\n",
    "s = input(\"Enter a string: \")\n",
    "output = consecutiveDuplicates(s)\n",
    "print(output)"
   ]
  }
 ],
 "metadata": {
  "kernelspec": {
   "display_name": "Python 3",
   "language": "python",
   "name": "python3"
  },
  "language_info": {
   "codemirror_mode": {
    "name": "ipython",
    "version": 3
   },
   "file_extension": ".py",
   "mimetype": "text/x-python",
   "name": "python",
   "nbconvert_exporter": "python",
   "pygments_lexer": "ipython3",
   "version": "3.12.4"
  }
 },
 "nbformat": 4,
 "nbformat_minor": 2
}
