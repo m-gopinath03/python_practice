{
 "cells": [
  {
   "cell_type": "markdown",
   "metadata": {},
   "source": [
    "1. Write a Python program to find those numbers which are divisible by 7 and multiple of 5, between 1500 and 2700 (both included)"
   ]
  },
  {
   "cell_type": "code",
   "execution_count": 1,
   "metadata": {},
   "outputs": [
    {
     "name": "stdout",
     "output_type": "stream",
     "text": [
      "1505\n",
      "1540\n",
      "1575\n",
      "1610\n",
      "1645\n",
      "1680\n",
      "1715\n",
      "1750\n",
      "1785\n",
      "1820\n",
      "1855\n",
      "1890\n",
      "1925\n",
      "1960\n",
      "1995\n",
      "2030\n",
      "2065\n",
      "2100\n",
      "2135\n",
      "2170\n",
      "2205\n",
      "2240\n",
      "2275\n",
      "2310\n",
      "2345\n",
      "2380\n",
      "2415\n",
      "2450\n",
      "2485\n",
      "2520\n",
      "2555\n",
      "2590\n",
      "2625\n",
      "2660\n",
      "2695\n"
     ]
    }
   ],
   "source": [
    "def multipleOf(num1, num2, range1, range2):\n",
    "    n3 = num1*num2\n",
    "    # for first divisible num\n",
    "    for i in range(range1,range1 + n3 +1):\n",
    "        if i % n3 == 0:\n",
    "            f1 = i\n",
    "            break\n",
    "    def recursive(f1):\n",
    "        if f1 <= range2:\n",
    "            print(f1)\n",
    "            recursive(f1 + 35)\n",
    "    recursive(f1)\n",
    "\n",
    "n1,n2 = 7, 5\n",
    "r1, r2 = 1500,2700\n",
    "\n",
    "multipleOf(n1,n2,r1,r2)        "
   ]
  },
  {
   "cell_type": "markdown",
   "metadata": {},
   "source": [
    "2. Write a Python program that prints all the numbers from 0 to 6 except 3 and 6.\n",
    "Note : Use 'continue' statement.\n",
    "Expected Output : 0 1 2 4 5"
   ]
  },
  {
   "cell_type": "code",
   "execution_count": 2,
   "metadata": {},
   "outputs": [
    {
     "name": "stdout",
     "output_type": "stream",
     "text": [
      "0\n",
      "1\n",
      "2\n",
      "4\n",
      "5\n"
     ]
    }
   ],
   "source": [
    "for i in range(7):\n",
    "    if i == 3 or i == 6:\n",
    "        continue\n",
    "    else:\n",
    "        print(i)"
   ]
  },
  {
   "cell_type": "markdown",
   "metadata": {},
   "source": [
    "3. Write a Python program which iterates the integers from 1 to 50. For multiples of three print \"Fizz\" instead of the number and for the multiples of five print \"Buzz\". For numbers which are multiples of both three and five print \"FizzBuzz\".\n",
    "\n",
    "    Sample Output :\n",
    "\n",
    "    fizzbuzz\n",
    "\n",
    "    1\n",
    "\n",
    "    2\n",
    "\n",
    "    fizz\n",
    "\n",
    "    4\n",
    "\n",
    "    Buzz"
   ]
  },
  {
   "cell_type": "code",
   "execution_count": 3,
   "metadata": {},
   "outputs": [
    {
     "name": "stdout",
     "output_type": "stream",
     "text": [
      "fizzbuzz\n",
      "1\n",
      "2\n",
      "fizz\n",
      "4\n",
      "buzz\n",
      "fizz\n",
      "7\n",
      "8\n",
      "fizz\n",
      "buzz\n",
      "11\n",
      "fizz\n",
      "13\n",
      "14\n",
      "fizzbuzz\n",
      "16\n",
      "17\n",
      "fizz\n",
      "19\n",
      "buzz\n",
      "fizz\n",
      "22\n",
      "23\n",
      "fizz\n",
      "buzz\n",
      "26\n",
      "fizz\n",
      "28\n",
      "29\n",
      "fizzbuzz\n",
      "31\n",
      "32\n",
      "fizz\n",
      "34\n",
      "buzz\n",
      "fizz\n",
      "37\n",
      "38\n",
      "fizz\n",
      "buzz\n",
      "41\n",
      "fizz\n",
      "43\n",
      "44\n",
      "fizzbuzz\n",
      "46\n",
      "47\n",
      "fizz\n",
      "49\n"
     ]
    }
   ],
   "source": [
    "for i in range(50):\n",
    "    if i % 3 == 0 and i % 5 == 0:\n",
    "        print(\"fizzbuzz\")\n",
    "    elif i % 3 == 0:\n",
    "        print(\"fizz\")\n",
    "    elif i % 5 == 0:\n",
    "        print(\"buzz\")\n",
    "    else:\n",
    "        print(i)"
   ]
  },
  {
   "cell_type": "markdown",
   "metadata": {},
   "source": [
    "4. Write a Python program to check a triangle is equilateral, isosceles or scalene.\n",
    "   \n",
    "    Note :\n",
    "        \n",
    "    An equilateral triangle is a triangle in which all three sides are equal.\n",
    "    \n",
    "    A scalene triangle is a triangle that has three unequal sides.\n",
    "    \n",
    "    An isosceles triangle is a triangle with two equal sides.\n",
    "    \n",
    "    Expected Output:\n",
    "    \n",
    "    Input lengths of the triangle sides:                                    \n",
    "    x: 6                                                                    \n",
    "    y: 8                                                                    \n",
    "    z: 12                                                                   \n",
    "    \n",
    "    Scalene triangle "
   ]
  },
  {
   "cell_type": "code",
   "execution_count": 4,
   "metadata": {},
   "outputs": [
    {
     "name": "stdout",
     "output_type": "stream",
     "text": [
      "Scalene Triangle\n"
     ]
    }
   ],
   "source": [
    "def checkTri(x,y,z):\n",
    "    if x == y == z:\n",
    "        print(\"Equilateral Triangle\")\n",
    "    elif x != y != z:\n",
    "        print(\"Scalene Triangle\")\n",
    "    else:\n",
    "        print(\"Isosceles Triangle\")\n",
    "\n",
    "x,y,z = 6,8,12\n",
    "checkTri(x,y,z)"
   ]
  },
  {
   "cell_type": "markdown",
   "metadata": {},
   "source": [
    "5. Write a Python program to calculate the sum and average of n integer numbers (input from the user). Input 0 to finish"
   ]
  },
  {
   "cell_type": "code",
   "execution_count": 5,
   "metadata": {},
   "outputs": [
    {
     "name": "stdout",
     "output_type": "stream",
     "text": [
      "9\n",
      "3.0\n"
     ]
    }
   ],
   "source": [
    "list1 = []\n",
    "while True:\n",
    "    n = int(input())\n",
    "    if n == 0:\n",
    "        break\n",
    "    list1.append(n)\n",
    "print(sum(list1))\n",
    "print((sum(list1))/len(list1))"
   ]
  },
  {
   "cell_type": "markdown",
   "metadata": {},
   "source": [
    "6. Write a Python program to construct the following pattern, using a nested loop number.\n",
    "\n",
    "    1\n",
    "\n",
    "    22\n",
    "\n",
    "    333\n",
    "\n",
    "    4444\n",
    "\n",
    "    55555\n",
    "\n",
    "    666666\n",
    "\n",
    "    7777777\n",
    "\n",
    "    88888888\n",
    "\n",
    "    999999999"
   ]
  },
  {
   "cell_type": "code",
   "execution_count": 6,
   "metadata": {},
   "outputs": [
    {
     "name": "stdout",
     "output_type": "stream",
     "text": [
      "1\n",
      "22\n",
      "333\n",
      "4444\n",
      "55555\n",
      "666666\n",
      "7777777\n",
      "88888888\n",
      "999999999\n"
     ]
    }
   ],
   "source": [
    "def printTri(height):  \n",
    "    for i in range(1,height+1):\n",
    "        for j in range(i):\n",
    "            print(i,end='')\n",
    "        print()\n",
    "\n",
    "height = 9\n",
    "printTri(height)"
   ]
  },
  {
   "cell_type": "markdown",
   "metadata": {},
   "source": [
    "7. Write a Python program that counts the number of elements within a list that are greater than 30."
   ]
  },
  {
   "cell_type": "code",
   "execution_count": 7,
   "metadata": {},
   "outputs": [
    {
     "name": "stdout",
     "output_type": "stream",
     "text": [
      "3\n"
     ]
    }
   ],
   "source": [
    "list1 = [34,65,56,2,3,4]\n",
    "count = 0\n",
    "for i in list1:\n",
    "    if i > 30:\n",
    "        count +=1\n",
    "print(count)"
   ]
  },
  {
   "cell_type": "markdown",
   "metadata": {},
   "source": [
    "8. Take values of length and breadth of a rectangle from user and check if it is square or not."
   ]
  },
  {
   "cell_type": "code",
   "execution_count": 8,
   "metadata": {},
   "outputs": [
    {
     "name": "stdout",
     "output_type": "stream",
     "text": [
      "Square\n"
     ]
    }
   ],
   "source": [
    "length = int(input())\n",
    "breadth = int(input())\n",
    "if length == breadth:\n",
    "    print(\"Square\")\n",
    "else:\n",
    "    print(\"Not Square\")"
   ]
  },
  {
   "cell_type": "markdown",
   "metadata": {},
   "source": [
    "9. A shop will give discount of 10% if the cost of purchased quantity is more than 1000.\n",
    "Ask user for quantity\n",
    "Suppose, one unit will cost 100.\n",
    "Judge and print total cost for user."
   ]
  },
  {
   "cell_type": "code",
   "execution_count": 11,
   "metadata": {},
   "outputs": [
    {
     "data": {
      "text/plain": [
       "1080.0"
      ]
     },
     "execution_count": 11,
     "metadata": {},
     "output_type": "execute_result"
    }
   ],
   "source": [
    "quantity = int(input())\n",
    "cost = 100*quantity\n",
    "if cost > 1000:\n",
    "    totalCost = cost*0.9\n",
    "else:\n",
    "    totalCost = cost\n",
    "totalCost"
   ]
  },
  {
   "cell_type": "markdown",
   "metadata": {},
   "source": [
    "10. A company decided to give bonus of 5% to employee if his/her year of service is more than 5 years.\n",
    "Ask user for their salary and year of service and print the net bonus amount."
   ]
  },
  {
   "cell_type": "code",
   "execution_count": 13,
   "metadata": {},
   "outputs": [
    {
     "name": "stdout",
     "output_type": "stream",
     "text": [
      "Net Bonus: 2500.0\n"
     ]
    }
   ],
   "source": [
    "years = int(input())\n",
    "salary = int(input())\n",
    "if years > 5:\n",
    "    print(\"Net Bonus:\",salary*.05)\n",
    "else:\n",
    "    print(\"Net Bonus:\",0)"
   ]
  },
  {
   "cell_type": "markdown",
   "metadata": {},
   "source": [
    "11. A school has following rules for grading system:\n",
    "\n",
    "    a. Below 25 - F\n",
    "\n",
    "    b. 25 to 45 - E\n",
    "\n",
    "    c. 45 to 50 - D\n",
    "\n",
    "    d. 50 to 60 - C\n",
    "\n",
    "    e. 60 to 80 - B\n",
    "\n",
    "    f. Above 80 - A\n",
    "\n",
    "    Ask user to enter marks and print the corresponding grade."
   ]
  },
  {
   "cell_type": "code",
   "execution_count": 20,
   "metadata": {},
   "outputs": [
    {
     "name": "stdout",
     "output_type": "stream",
     "text": [
      "Grade: A\n"
     ]
    }
   ],
   "source": [
    "marks = int(input())\n",
    "dict1 = {'A':(80,100),'B':(60,80),'C':(50,60),'D':(45,50),'E':(25,45),'F':(0,25)}\n",
    "\n",
    "for key, (low,high) in dict1.items():\n",
    "    if low <= marks < high:\n",
    "        grade = key\n",
    "        break\n",
    "print(\"Grade:\", grade)"
   ]
  },
  {
   "cell_type": "markdown",
   "metadata": {},
   "source": [
    "12. A student will not be allowed to sit in exam if his/her attendence is less than 75%.\n",
    "\n",
    "    Take following input from user\n",
    "\n",
    "    Number of classes held\n",
    "\n",
    "    Number of classes attended.\n",
    "\n",
    "    And print\n",
    "\n",
    "    percentage of class attended\n",
    "\n",
    "    Is student is allowed to sit in exam or not."
   ]
  },
  {
   "cell_type": "code",
   "execution_count": 25,
   "metadata": {},
   "outputs": [
    {
     "name": "stdout",
     "output_type": "stream",
     "text": [
      "Attendance: 85.0%\n",
      "Student Allowed for exam: True\n"
     ]
    }
   ],
   "source": [
    "numOfClassHeld = int(input())\n",
    "numOfClassAttended = int(input())\n",
    "attendance = round((numOfClassAttended/numOfClassHeld)*100,0)\n",
    "StudentAllowed = True\n",
    "if attendance < 75 :\n",
    "    StudentAllowed = False\n",
    "\n",
    "print(f\"Attendance: {attendance}%\\nStudent Allowed for exam: {StudentAllowed}\")\n"
   ]
  },
  {
   "cell_type": "markdown",
   "metadata": {},
   "source": [
    "13. Take 10 integers from keyboard using loop and print their average value on the screen."
   ]
  },
  {
   "cell_type": "code",
   "execution_count": 26,
   "metadata": {},
   "outputs": [
    {
     "name": "stdout",
     "output_type": "stream",
     "text": [
      "5.5\n"
     ]
    }
   ],
   "source": [
    "sum = 0\n",
    "for i in range(10):\n",
    "    n = int(input())\n",
    "    sum += n\n",
    "print(sum/10)"
   ]
  },
  {
   "cell_type": "markdown",
   "metadata": {},
   "source": [
    "14. Print multiplication table of 24, 50 and 29 using loop."
   ]
  },
  {
   "cell_type": "code",
   "execution_count": 36,
   "metadata": {},
   "outputs": [
    {
     "name": "stdout",
     "output_type": "stream",
     "text": [
      "Multiplication of 24:  Multiplication of 50:  Multiplication of 29: \n",
      "24                               50                     29\n",
      "48                               100                     58\n",
      "72                               150                     87\n",
      "96                               200                     116\n",
      "120                               250                     145\n",
      "144                               300                     174\n",
      "168                               350                     203\n",
      "192                               400                     232\n",
      "216                               450                     261\n",
      "240                               500                     290\n"
     ]
    }
   ],
   "source": [
    "x = 24\n",
    "y = 50\n",
    "z = 29\n",
    "print(\"Multiplication of 24: \", \"Multiplication of 50: \", \"Multiplication of 29: \")\n",
    "for i in range(1,11):\n",
    "    print(x*i,\" \"*30,end='')\n",
    "    print(y*i,\" \"*20,end='')\n",
    "    print(z*i)"
   ]
  },
  {
   "cell_type": "markdown",
   "metadata": {},
   "source": [
    "15. Take integer inputs from user until he/she presses q ( Ask to press q to quit after every integer input ). Print average and product of all numbers."
   ]
  },
  {
   "cell_type": "code",
   "execution_count": 41,
   "metadata": {},
   "outputs": [
    {
     "name": "stdout",
     "output_type": "stream",
     "text": [
      "Average: 3.5\n",
      "Product: 1440\n"
     ]
    }
   ],
   "source": [
    "sum = 0\n",
    "count = 0\n",
    "product = 1\n",
    "while True:\n",
    "    n = input(\"Press 'q' to exit\")\n",
    "    if n == 'q':\n",
    "        break\n",
    "    sum += int(n)\n",
    "    product *= int(n)\n",
    "    count+=1\n",
    "print(f\"Average: {sum/count}\\nProduct: {product}\")"
   ]
  },
  {
   "cell_type": "markdown",
   "metadata": {},
   "source": [
    "16. Take inputs from user to make a list. Again take one input from user and search it in the list and delete that element, if found. Iterate over list using for loop."
   ]
  },
  {
   "cell_type": "code",
   "execution_count": 45,
   "metadata": {},
   "outputs": [],
   "source": [
    "list1 = list(map(int,input(\"Enter space separated numbers for list \").split()))\n",
    "num = int(input())\n",
    "for i in list1:\n",
    "    if i == num:\n",
    "        list1.pop(list1.index(i))"
   ]
  },
  {
   "cell_type": "markdown",
   "metadata": {},
   "source": [
    "17. Using range(1,101), make three list, \n",
    "    \n",
    "    one containing all even numbers\n",
    "    \n",
    "    one containing all odd numbers \n",
    "    \n",
    "    One containing only prime numbers.."
   ]
  },
  {
   "cell_type": "code",
   "execution_count": 53,
   "metadata": {},
   "outputs": [
    {
     "name": "stdout",
     "output_type": "stream",
     "text": [
      "[2, 3, 5, 7, 11, 13, 17, 19, 23, 29, 31, 37, 41, 43, 47, 53, 59, 61, 67, 71, 73, 79, 83, 89, 97]\n"
     ]
    }
   ],
   "source": [
    "evenList = []\n",
    "oddList = []\n",
    "primeNum = [2]\n",
    "def isPrime(n):\n",
    "    if n <=1:\n",
    "        return False\n",
    "    if n == 2 or n == 3:\n",
    "        return True\n",
    "    if n % 2 == 0 or n % 3 == 0:\n",
    "        return False\n",
    "    \n",
    "    limit = int(n**0.5) + 1 # prime number is in form 6k + 1, 6k + 5\n",
    "    for i in range(5,limit,6):\n",
    "        if n % i == 0 or n % (i + 2) == 0:\n",
    "            return False\n",
    "    return True\n",
    "\n",
    "\n",
    "for i in range(1,101):\n",
    "    if i % 2 == 0:\n",
    "        evenList.append(i)\n",
    "    if i % 2 != 0:\n",
    "        oddList.append(i)\n",
    "        if isPrime(i):\n",
    "            primeNum.append(i)\n",
    "    \n",
    "print(primeNum)"
   ]
  },
  {
   "cell_type": "markdown",
   "metadata": {},
   "source": [
    "18. From the two list obtained in previous question, make new lists, containing only numbers which are divisible by 4, 6, 8, 10, 3, 5, 7 and 9 in separate lists."
   ]
  },
  {
   "cell_type": "code",
   "execution_count": 51,
   "metadata": {},
   "outputs": [
    {
     "name": "stdout",
     "output_type": "stream",
     "text": [
      "[2, 4, 6, 8, 10, 12, 14, 16, 18, 20, 22, 24, 26, 28, 30, 32, 34, 36, 38, 40, 42, 44, 46, 48, 50, 52, 54, 56, 58, 60, 62, 64, 66, 68, 70, 72, 74, 76, 78, 80, 82, 84, 86, 88, 90, 92, 94, 96, 98, 100]\n"
     ]
    }
   ],
   "source": [
    "newList = evenList + oddList\n",
    "l1 = [4,6,8,10,5,7,9]\n",
    "new = []\n",
    "for i in newList:\n",
    "    for j in l1:\n"
    "        if i % j == 0:\n"
    "            if i not in new:\n"
    "                new.append(i)\n"
    "print(new)"
   ]
  },
  {
   "cell_type": "markdown",
   "metadata": {},
   "source": [
    "19. From a list containing ints, strings and floats, make three lists to store them separately."
   ]
  },
  {
   "cell_type": "code",
   "execution_count": 55,
   "metadata": {},
   "outputs": [
    {
     "name": "stdout",
     "output_type": "stream",
     "text": [
      "[24, 23, 2]\n",
      "['pace', 'wisdom']\n",
      "[4.0, 5.64]\n"
     ]
    }
   ],
   "source": [
    "list1 = [24,23,2,'pace','wisdom',4.00,5.64]\n",
    "intList = []\n",
    "strList = []\n",
    "floatList = []\n",
    "for i in list1:\n",
    "    if type(i) == int:\n",
    "        intList.append(i)\n",
    "    elif type(i) == str:\n",
    "        strList.append(i)\n",
    "    else:\n",
    "        floatList.append(i)\n",
    "        \n",
    "print(intList)\n",
    "print(strList)\n",
    "print(floatList)"
   ]
  },
  {
   "cell_type": "markdown",
   "metadata": {},
   "source": [
    "20.You are given with a list of integer elements. Make a new list which will store square of elements of previous list."
   ]
  },
  {
   "cell_type": "code",
   "execution_count": 63,
   "metadata": {},
   "outputs": [
    {
     "data": {
      "text/plain": [
       "[576, 529, 4]"
      ]
     },
     "execution_count": 63,
     "metadata": {},
     "output_type": "execute_result"
    }
   ],
   "source": [
    "def square(intList) -> list:\n",
    "        return [i*i for i in intList]\n",
    "square(intList)"
   ]
  }
 ],
 "metadata": {
  "kernelspec": {
   "display_name": "Python 3",
   "language": "python",
   "name": "python3"
  },
  "language_info": {
   "codemirror_mode": {
    "name": "ipython",
    "version": 3
   },
   "file_extension": ".py",
   "mimetype": "text/x-python",
   "name": "python",
   "nbconvert_exporter": "python",
   "pygments_lexer": "ipython3",
   "version": "3.12.4"
  }
 },
 "nbformat": 4,
 "nbformat_minor": 2
}
