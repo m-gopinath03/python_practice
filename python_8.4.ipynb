{
 "cells": [
  {
   "cell_type": "markdown",
   "metadata": {},
   "source": [
    "This is problem to convert all the negative coordinates to a positive coordinates;\n",
    "The agenda is to get all the coordinates in 0 or positive values keeping the relative distance same;\n",
    "We can add or delete any number from the coordinates ; however graph should not be changed;\n",
    "\n",
    "Input: [(1,-2), (-2, 4), (-1,-1),(-8, -3), (0, 4), (10,-3)]\n",
    "\n",
    "Output : [(9,6), (6, 12), (7,7),(0, 5), (8, 12), (18,5)]\n"
   ]
  },
  {
   "cell_type": "code",
   "execution_count": 9,
   "metadata": {},
   "outputs": [
    {
     "data": {
      "text/plain": [
       "[(9, 6), (6, 12), (7, 7), (0, 5), (8, 12), (18, 5)]"
      ]
     },
     "execution_count": 9,
     "metadata": {},
     "output_type": "execute_result"
    }
   ],
   "source": [
    "def convertCoordinates(points):\n",
    "    x_cord = [x for x,y in points]\n",
    "    y_cord = [y for x,y in points]\n",
    "    \n",
    "    #smallest values\n",
    "    min_x = min(x_cord)\n",
    "    min_y = min(y_cord)\n",
    "    desired_x = 0 # as min of x is -8\n",
    "    desired_y = 5 # as min is -3 but need to do -5 to become -8\n",
    "    \n",
    "    abs_x = desired_x - min_x if min_x < 0 else 0\n",
    "    abs_y = desired_y - min_y if min_y < 0 else 0\n",
    "    \n",
    "    output = [ (x+abs_x, y+abs_y) for x,y in points]\n",
    "    return output\n",
    "\n",
    "\n",
    "input = [(1,-2), (-2, 4), (-1,-1),(-8, -3), (0, 4), (10,-3)]\n",
    "convertCoordinates(input)"
   ]
  }
 ],
 "metadata": {
  "kernelspec": {
   "display_name": "Python 3",
   "language": "python",
   "name": "python3"
  },
  "language_info": {
   "codemirror_mode": {
    "name": "ipython",
    "version": 3
   },
   "file_extension": ".py",
   "mimetype": "text/x-python",
   "name": "python",
   "nbconvert_exporter": "python",
   "pygments_lexer": "ipython3",
   "version": "3.12.4"
  }
 },
 "nbformat": 4,
 "nbformat_minor": 2
}
