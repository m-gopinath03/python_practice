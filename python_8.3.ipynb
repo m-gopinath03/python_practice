{
 "cells": [
  {
   "cell_type": "markdown",
   "metadata": {},
   "source": [
    "A balanced delimiter starts with an opening character ((, [, {), ends with a matching closing character (), ], } respectively), and has only other matching delimiters in between. A balanced delimiter may contain any number of balanced delimiters.\n",
    "\n",
    "Examples\n",
    "The following are examples of balanced delimiter strings:\n",
    "\n",
    "\"()[]{}\" , \"([{}])\" , \"([]{})\"\n",
    "\n",
    "The following are examples of invalid strings:\n",
    "\n",
    "\"([)]\" , \"([]\" , \"[])\" , \"([})\"\n",
    "\n",
    "Input is provided as a single string. Your output should be True or False according to whether the string is balanced. For example:\n",
    "\n",
    "Input:\n",
    "\n",
    "([{}])\n",
    "\n",
    "Output:\n",
    "\n",
    "True\n"
   ]
  },
  {
   "cell_type": "code",
   "execution_count": 14,
   "metadata": {},
   "outputs": [
    {
     "name": "stdout",
     "output_type": "stream",
     "text": [
      "False\n"
     ]
    }
   ],
   "source": [
    "class BalancedDelimiter:\n",
    "    def __init__(self, string:str = None):\n",
    "        if not string:\n",
    "            string = input(\"Enter a string to check balanced delimiter\")\n",
    "        self.string = string\n",
    "        self.dict = {\"(\":\")\", \"[\":\"]\", \"{\":\"}\"}\n",
    "        self.list = []\n",
    "        self.length = len(self.string)\n",
    "    \n",
    "    def check(self):\n",
    "        if self.length % 2 != 0:\n",
    "            return False\n",
    "        else:\n",
    "            for i in range(self.length):\n",
    "                if self.string[i] in self.dict.keys():\n",
    "                    self.list.append(self.string[i])\n",
    "                else:\n",
    "                    if  not self.list or self.string[i] == self.dict[self.list.pop()]:\n",
    "                        continue\n",
    "                    else:\n",
    "                        return False\n",
    "            return not self.list\n",
    "\n",
    "\n",
    "object = BalancedDelimiter().check()\n",
    "print(object)"
   ]
  }
 ],
 "metadata": {
  "kernelspec": {
   "display_name": "Python 3",
   "language": "python",
   "name": "python3"
  },
  "language_info": {
   "codemirror_mode": {
    "name": "ipython",
    "version": 3
   },
   "file_extension": ".py",
   "mimetype": "text/x-python",
   "name": "python",
   "nbconvert_exporter": "python",
   "pygments_lexer": "ipython3",
   "version": "3.12.4"
  }
 },
 "nbformat": 4,
 "nbformat_minor": 2
}
